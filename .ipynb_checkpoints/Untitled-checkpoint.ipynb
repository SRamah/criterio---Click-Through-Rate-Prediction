{
 "cells": [
  {
   "cell_type": "code",
   "execution_count": 1,
   "metadata": {
    "collapsed": true
   },
   "outputs": [],
   "source": [
    "import numpy as np\n",
    "import pandas as pd\n",
    "from sklearn.ensemble import RandomForestClassifier\n",
    "import zipfile\n",
    "import tarfile\n",
    "from sklearn.model_selection import GridSearchCV\n",
    "from OneHotEncoderPartial import OneHotEncoder\n",
    "\n",
    "from datetime import datetime\n",
    "from csv import DictReader"
   ]
  },
  {
   "cell_type": "code",
   "execution_count": null,
   "metadata": {
    "collapsed": true
   },
   "outputs": [],
   "source": [
    "enc = OneHotEncoder()\n",
    "\n",
    "\n",
    "# Fit OneHotEncoder small batch at the time\n",
    "cat_Cols = []\n",
    "dd = {}\n",
    "dd[0]=\"Label\"\n",
    "for i in range(1,14):\n",
    "    dd[i]=\"I\"+`i`\n",
    "    cat_Cols.append(\"I\"+`i`)\n",
    "for c in range(1,27):\n",
    "    dd[c+13]=\"C\"+`c`\n",
    "    cat_Cols.append(\"C\"+`c`)\n",
    "\n",
    "chunksize = 10 ** 5\n",
    "for chunk in pd.read_csv(\"dac/4M_train.txt\", chunksize=chunksize, header=-1, sep='\\t'):\n",
    "    chunk.rename(columns=dd, inplace=True)\n",
    "    enc.partial_fit(np.array(chunk[cat_Cols], dtype='str'))\n",
    "\n",
    "DumpObject(\"OneHotEncoder\",enc)"
   ]
  },
  {
   "cell_type": "code",
   "execution_count": null,
   "metadata": {
    "collapsed": true
   },
   "outputs": [],
   "source": [
    "clf = RandomForestClassifier(random_state=1, n_estimators=100, n_jobs=-1)\n",
    "\n",
    "X_chunk = chunk[cat_Cols]\n",
    "y_chunk = chunk.Label\n",
    "#OneHotEncoder\n",
    "Xcat = enc.transform(np.array(X_chunk, dtype='str'))\n",
    "#Rechercher les meilleurs parametres\n",
    "clf.fit(Xcat,y_chunk)\n",
    "rf = clf.feature_importances_\n",
    "rf=zip(rf,Xcat.columns)\n",
    "rf=sorted(rf,reverse=True)[:n_features]\n",
    "\n",
    "[x[1] for x in rf]"
   ]
  },
  {
   "cell_type": "code",
   "execution_count": 2,
   "metadata": {
    "collapsed": true
   },
   "outputs": [],
   "source": [
    "RandomForestClassifier?"
   ]
  },
  {
   "cell_type": "code",
   "execution_count": null,
   "metadata": {
    "collapsed": true
   },
   "outputs": [],
   "source": []
  }
 ],
 "metadata": {
  "kernelspec": {
   "display_name": "Python 2",
   "language": "python",
   "name": "python2"
  },
  "language_info": {
   "codemirror_mode": {
    "name": "ipython",
    "version": 2
   },
   "file_extension": ".py",
   "mimetype": "text/x-python",
   "name": "python",
   "nbconvert_exporter": "python",
   "pygments_lexer": "ipython2",
   "version": "2.7.12"
  }
 },
 "nbformat": 4,
 "nbformat_minor": 0
}
